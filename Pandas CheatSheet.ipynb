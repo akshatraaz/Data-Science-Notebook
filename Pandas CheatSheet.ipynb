{
 "cells": [
  {
   "cell_type": "markdown",
   "id": "b1deb5e3",
   "metadata": {},
   "source": [
    "# Pandas CheatSheet"
   ]
  },
  {
   "cell_type": "markdown",
   "id": "8afd4e3e",
   "metadata": {},
   "source": [
    "## 01. Basics Pandas"
   ]
  },
  {
   "cell_type": "code",
   "execution_count": null,
   "id": "8cd8db8a",
   "metadata": {},
   "outputs": [],
   "source": [
    "# import pandas library\n",
    "import pandas as pd              ## pd is an alias of pandas \n",
    "                                 ## pd is replacable with any name"
   ]
  },
  {
   "cell_type": "code",
   "execution_count": null,
   "id": "5c9adad5",
   "metadata": {},
   "outputs": [],
   "source": [
    "# To read Data in Different Format\n",
    "df = pd.read_csv('file_location or link')         ## read csv file\n",
    "df1 = pd.read_excel('location or link')           ## read excel file\n",
    "df2 = pd.read_html('link')                        ## get data from website which available in tabular format\n",
    "                                                  ## df is a variable name"
   ]
  },
  {
   "cell_type": "code",
   "execution_count": null,
   "id": "654aa1ca",
   "metadata": {},
   "outputs": [],
   "source": [
    "# To get column in Data\n",
    "df.column\n",
    "\n",
    "# To get columns in list format\n",
    "list(df.columns)"
   ]
  },
  {
   "cell_type": "code",
   "execution_count": null,
   "id": "bcd53b7e",
   "metadata": {},
   "outputs": [],
   "source": [
    "# To get type of data\n",
    "type(df)\n",
    "type(df[['column', 'column']])            ## to know type of data"
   ]
  },
  {
   "cell_type": "code",
   "execution_count": null,
   "id": "53347b0c",
   "metadata": {},
   "outputs": [],
   "source": [
    "# to know types of info\n",
    "df.dtypes"
   ]
  },
  {
   "cell_type": "code",
   "execution_count": null,
   "id": "11b69847",
   "metadata": {},
   "outputs": [],
   "source": [
    "# To column details from data\n",
    "df['column name']                        ## get one column details\n",
    "df[['column name','column name']]        ## get multiple column details"
   ]
  },
  {
   "cell_type": "code",
   "execution_count": null,
   "id": "49e959ac",
   "metadata": {},
   "outputs": [],
   "source": [
    "# to know len of data\n",
    "len(df)                                  ## where df is a variable name"
   ]
  },
  {
   "cell_type": "code",
   "execution_count": null,
   "id": "63f28ed0",
   "metadata": {},
   "outputs": [],
   "source": [
    "# to get first & last 5 rows\n",
    "df.head()                               ## first 5 rows\n",
    "df.tail()                               ## last 5 rows\n",
    "df.head(10)                             ## to get customized rows from upper\n",
    "df.tail(8)                              ## to get customized rows from lower"
   ]
  },
  {
   "cell_type": "code",
   "execution_count": null,
   "id": "0a627f83",
   "metadata": {},
   "outputs": [],
   "source": [
    "# describe method give us only statical numerical value\n",
    "df.describe()"
   ]
  },
  {
   "cell_type": "markdown",
   "id": "0ef45f0c",
   "metadata": {},
   "source": [
    "## 02. Advanced Pandas"
   ]
  },
  {
   "cell_type": "code",
   "execution_count": null,
   "id": "16323dd2",
   "metadata": {},
   "outputs": [],
   "source": [
    "# Example Dataset Titanic\n",
    "\n",
    "df = pd.read_csv(\"https://raw.githubusercontent.com/datasciencedojo/datasets/master/titanic.csv\")"
   ]
  },
  {
   "cell_type": "code",
   "execution_count": null,
   "id": "ef40764f",
   "metadata": {},
   "outputs": [],
   "source": [
    "# to get specific information from dataset\n",
    "df.dtypes == 'object'\n",
    "\n",
    "# to get object of index information from dataset\n",
    "df.dtypes[df.dtypes == 'object'].index"
   ]
  },
  {
   "cell_type": "code",
   "execution_count": null,
   "id": "7cc39315",
   "metadata": {},
   "outputs": [],
   "source": [
    "# describe the index of the object \n",
    "df[df.dtypes[df.dtypes == 'object'].index].describe()"
   ]
  },
  {
   "cell_type": "code",
   "execution_count": null,
   "id": "27959f95",
   "metadata": {},
   "outputs": [],
   "source": [
    "# to get float data from dataset\n",
    "df[df.dtypes[df.dtypes == 'float64'].index]"
   ]
  },
  {
   "cell_type": "code",
   "execution_count": null,
   "id": "aee64cab",
   "metadata": {},
   "outputs": [],
   "source": [
    "# get specific information with slicing and jump concept\n",
    "df[['Ticket', 'Cabin']][4:11:2]\n",
    "\n",
    "df[0:2]  and df[0::2]"
   ]
  },
  {
   "cell_type": "code",
   "execution_count": null,
   "id": "8c4a0f74",
   "metadata": {},
   "outputs": [],
   "source": [
    "# To make new column in dataset\n",
    "df['new_col'] = 0"
   ]
  },
  {
   "cell_type": "code",
   "execution_count": null,
   "id": "211ebbb3",
   "metadata": {},
   "outputs": [],
   "source": [
    "# to concatnate two data and create a new column \n",
    "df[\"new_col1\"] = df['PassengerId'] + df['Pclass']"
   ]
  },
  {
   "cell_type": "code",
   "execution_count": null,
   "id": "7f509099",
   "metadata": {},
   "outputs": [],
   "source": [
    "# categories wise information\n",
    "pd.Categorical(df['Pclass'])"
   ]
  },
  {
   "cell_type": "code",
   "execution_count": null,
   "id": "476bfdb4",
   "metadata": {},
   "outputs": [],
   "source": [
    "# get unique information from data\n",
    "df['Cabin'].unique()"
   ]
  },
  {
   "cell_type": "code",
   "execution_count": null,
   "id": "8ff409cb",
   "metadata": {},
   "outputs": [],
   "source": [
    "# get specific information or filter data\n",
    "len(df[df['Age'] >18]) -891\n",
    "\n",
    "df[df['Fare'] > 32.204208]\n",
    "\n",
    "df[df['Fare'] == 0]\n",
    "\n",
    "df[df['Survived'] == 1]"
   ]
  },
  {
   "cell_type": "code",
   "execution_count": null,
   "id": "d426ca74",
   "metadata": {},
   "outputs": [],
   "source": [
    "df[(df['Sex'] == 'female') & (df['Fare'] > 32)]       ## '&' symbol denote 'and'\n",
    "\n",
    "df[(df['Sex'] =='female') | (df['Fare'] > 32)]        ## '|' symbol denote 'or'"
   ]
  },
  {
   "cell_type": "code",
   "execution_count": null,
   "id": "a0a9df32",
   "metadata": {},
   "outputs": [],
   "source": [
    "# Filter max or minimum details\n",
    "df[df['Fare'] == max(df['Fare'])]['Name']"
   ]
  },
  {
   "cell_type": "code",
   "execution_count": null,
   "id": "cac1d701",
   "metadata": {},
   "outputs": [],
   "source": [
    "# get data from index location\n",
    "\n",
    "df.iloc[0:2,[0,1,2]]"
   ]
  },
  {
   "cell_type": "code",
   "execution_count": null,
   "id": "c02defdb",
   "metadata": {},
   "outputs": [],
   "source": [
    "# get data from location\n",
    "\n",
    "df.loc[0:2,['PassengerId','Survived','Pclass']]"
   ]
  }
 ],
 "metadata": {
  "kernelspec": {
   "display_name": "Python 3 (ipykernel)",
   "language": "python",
   "name": "python3"
  },
  "language_info": {
   "codemirror_mode": {
    "name": "ipython",
    "version": 3
   },
   "file_extension": ".py",
   "mimetype": "text/x-python",
   "name": "python",
   "nbconvert_exporter": "python",
   "pygments_lexer": "ipython3",
   "version": "3.9.13"
  }
 },
 "nbformat": 4,
 "nbformat_minor": 5
}
